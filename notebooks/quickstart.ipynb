{
 "cells": [
  {
   "cell_type": "markdown",
   "metadata": {},
   "source": [
    "# NVIDIA RAG Blueprint with Pinecone - Quickstart\n",
    "\n",
    "This notebook demonstrates how to:\n",
    "1. Set up the document processing pipeline\n",
    "2. Ingest documents using Nemo Retriever Extract\n",
    "3. Store vectors in Pinecone\n",
    "4. Perform RAG queries\n",
    "\n",
    "## Setup\n",
    "\n",
    "First, ensure you have the required environment variables:"
   ]
  },
  {
   "cell_type": "code",
   "execution_count": 2,
   "metadata": {},
   "outputs": [
    {
     "name": "stdout",
     "output_type": "stream",
     "text": [
      "Warning: NVIDIA_API_KEY not set\n",
      "Warning: LICENSE_API_KEY not set\n",
      "Warning: PINECONE_API_KEY not set\n",
      "Warning: PINECONE_ENVIRONMENT not set\n"
     ]
    }
   ],
   "source": [
    "import os\n",
    "from dotenv import load_dotenv\n",
    "\n",
    "# Load environment variables from .env file\n",
    "load_dotenv()\n",
    "\n",
    "# Verify required variables\n",
    "required_vars = [\n",
    "    'NVIDIA_API_KEY',\n",
    "    'PINECONE_API_KEY',  # Only for cloud deployment\n",
    "    'PINECONE_ENVIRONMENT'  # Only for cloud deployment\n",
    "]\n",
    "\n",
    "for var in required_vars:\n",
    "    if not os.getenv(var):\n",
    "        print(f'Warning: {var} not set')"
   ]
  },
  {
   "cell_type": "markdown",
   "metadata": {},
   "source": [
    "## Initialize Document Processor\n",
    "\n",
    "Set up the document processor using Nemo Retriever Extract:"
   ]
  },
  {
   "cell_type": "code",
   "execution_count": null,
   "metadata": {},
   "outputs": [],
   "source": [
    "from src.document_processor import DocumentProcessor\n",
    "from src.pinecone_uploader import PineconeUploader\n",
    "\n",
    "# Initialize processors\n",
    "doc_processor = DocumentProcessor(\n",
    "    embedding_model_name=\"nvidia/llama-3.2-nv-embedqa-1b-v2\",\n",
    "    extract_config={\n",
    "        \"extract_text\": True,\n",
    "        \"extract_tables\": True,\n",
    "        \"extract_charts\": True,\n",
    "        \"extract_images\": True,\n",
    "        \"text_depth\": \"page\"\n",
    "    }\n",
    ")\n",
    "\n",
    "pinecone_uploader = PineconeUploader()"
   ]
  },
  {
   "cell_type": "markdown",
   "metadata": {},
   "source": [
    "## Process Sample Documents\n",
    "\n",
    "Let's process some sample documents from the NVIDIA Developer Blog:"
   ]
  },
  {
   "cell_type": "code",
   "execution_count": null,
   "metadata": {},
   "outputs": [],
   "source": [
    "# Process documents\n",
    "data_dir = \"../data/sample_docs\"\n",
    "processed_docs = doc_processor.process_documents(data_dir)\n",
    "\n",
    "print(f\"Processed {len(processed_docs)} documents\")\n",
    "\n",
    "# Upload to Pinecone\n",
    "pinecone_uploader.upload_vectors(processed_docs)\n",
    "print(\"Vectors uploaded to Pinecone\")"
   ]
  },
  {
   "cell_type": "markdown",
   "metadata": {},
   "source": [
    "## Perform RAG Queries\n",
    "\n",
    "Now let's try some queries using our RAG pipeline:"
   ]
  },
  {
   "cell_type": "code",
   "execution_count": null,
   "metadata": {},
   "outputs": [],
   "source": [
    "from src.retriever import NVIDIARetriever\n",
    "\n",
    "# Initialize retriever\n",
    "retriever = NVIDIARetriever()\n",
    "\n",
    "# Example query\n",
    "query = \"What are the key benefits of using NVIDIA's RAG blueprint?\"\n",
    "\n",
    "# Get relevant documents\n",
    "results = await retriever.retrieve(query, top_k=3)\n",
    "\n",
    "print(\"\\nRelevant passages:\")\n",
    "for i, result in enumerate(results, 1):\n",
    "    print(f\"\\n{i}. Score: {result['score']:.3f}\")\n",
    "    print(f\"Text: {result['metadata']['text'][:200]}...\")"
   ]
  },
  {
   "cell_type": "markdown",
   "metadata": {},
   "source": [
    "## Cleanup\n",
    "\n",
    "If you're using Pinecone Local, remember that data is not persistent and will be cleared when the service restarts."
   ]
  }
 ],
 "metadata": {
  "kernelspec": {
   "display_name": ".venv",
   "language": "python",
   "name": "python3"
  },
  "language_info": {
   "codemirror_mode": {
    "name": "ipython",
    "version": 3
   },
   "file_extension": ".py",
   "mimetype": "text/x-python",
   "name": "python",
   "nbconvert_exporter": "python",
   "pygments_lexer": "ipython3",
   "version": "3.12.5"
  }
 },
 "nbformat": 4,
 "nbformat_minor": 2
}
